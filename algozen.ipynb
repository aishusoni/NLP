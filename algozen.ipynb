{
  "nbformat": 4,
  "nbformat_minor": 0,
  "metadata": {
    "colab": {
      "name": "algozen.ipynb",
      "provenance": [],
      "collapsed_sections": []
    },
    "kernelspec": {
      "name": "python3",
      "display_name": "Python 3"
    }
  },
  "cells": [
    {
      "cell_type": "code",
      "metadata": {
        "id": "mpSonv2XWwet"
      },
      "source": [
        "pip install pdfplumber"
      ],
      "execution_count": null,
      "outputs": []
    },
    {
      "cell_type": "code",
      "metadata": {
        "id": "vLXN71Gjoa8G"
      },
      "source": [
        "import nltk\r\n",
        "nltk.download('punkt') # For tokenizers\r\n",
        "nltk.download('inaugural') # For dataset\r\n",
        "nltk.download('stopwords')\r\n",
        "\r\n",
        "from nltk.tokenize import word_tokenize,sent_tokenize\r\n",
        "from nltk.tokenize import WhitespaceTokenizer\r\n",
        "\r\n",
        "import re\r\n",
        "#regular expression package(re) to define the pattern of an email ID\r\n",
        "\r\n",
        "import pdfplumber\r\n",
        "#for reading the pdf file"
      ],
      "execution_count": null,
      "outputs": []
    },
    {
      "cell_type": "code",
      "metadata": {
        "colab": {
          "base_uri": "https://localhost:8080/"
        },
        "id": "T0_Uj_9OYomS",
        "outputId": "9a220eb5-f2aa-4a9b-e837-15da7fc94827"
      },
      "source": [
        "tk = WhitespaceTokenizer() #white space tokenization but no need :/\r\n",
        "\r\n",
        "#aish_cv.pdf......can also be used to test\r\n",
        "with pdfplumber.open(r'Pratyush_s_Resume.pdf') as pdf:\r\n",
        "    first_page = pdf.pages[0]\r\n",
        "    corpus=first_page.extract_text()\r\n",
        "#tokens = nltk.word_tokenize(corpus)\r\n",
        "#tokens=tk.tokenize(corpus)\r\n",
        "#finding the email with the below format\r\n",
        "email = re.findall(r\"[a-z0-9\\.\\-+_]+@[a-z0-9\\.\\-+_]+\\.[a-z]+\",corpus)\r\n",
        "for i in email:\r\n",
        "    print(i)"
      ],
      "execution_count": 95,
      "outputs": [
        {
          "output_type": "stream",
          "text": [
            "jaiswalpratyush2015@gmail.com\n"
          ],
          "name": "stdout"
        }
      ]
    },
    {
      "cell_type": "code",
      "metadata": {
        "id": "KyGeNkm9q0SG"
      },
      "source": [
        "import spacy\r\n",
        "from spacy.matcher import Matcher\r\n",
        "#for finding the name"
      ],
      "execution_count": 96,
      "outputs": []
    },
    {
      "cell_type": "code",
      "metadata": {
        "colab": {
          "base_uri": "https://localhost:8080/",
          "height": 35
        },
        "id": "MD3-pXmOq21F",
        "outputId": "d1c9ea3a-37d6-470f-b2e8-28ff9660da64"
      },
      "source": [
        "# loading pre-trained model\r\n",
        "nlp = spacy.load('en_core_web_sm')\r\n",
        "\r\n",
        "# initialize matcher with a vocab\r\n",
        "nlp_corpus = nlp(corpus)\r\n",
        "sentences = list(nlp_corpus.sents)\r\n",
        "#len(sentences)\r\n",
        "\r\n",
        "matcher = Matcher(nlp.vocab)\r\n",
        "\r\n",
        "#function for extracting the name\r\n",
        "def extract_full_name(_doc):\r\n",
        "     pattern = [{'POS': 'PROPN'}, {'POS': 'PROPN'}]# as name is always a proper noun followed by proper noun\r\n",
        "     \r\n",
        "     matcher.add('FULL_NAME', None, pattern)\r\n",
        "     matches = matcher(_doc)\r\n",
        "     for match_id, start, end in matches:\r\n",
        "         find_name = _doc[start:end]\r\n",
        "         return find_name.text\r\n",
        "\r\n",
        "extract_full_name(nlp_corpus)\r\n",
        "#calling the function"
      ],
      "execution_count": 97,
      "outputs": [
        {
          "output_type": "execute_result",
          "data": {
            "application/vnd.google.colaboratory.intrinsic+json": {
              "type": "string"
            },
            "text/plain": [
              "'Pratyush Jaiswal'"
            ]
          },
          "metadata": {
            "tags": []
          },
          "execution_count": 97
        }
      ]
    },
    {
      "cell_type": "code",
      "metadata": {
        "id": "H88kmu7ZX_O4"
      },
      "source": [
        ""
      ],
      "execution_count": null,
      "outputs": []
    }
  ]
}