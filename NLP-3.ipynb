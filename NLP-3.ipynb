{
 "cells": [
  {
   "cell_type": "markdown",
   "metadata": {
    "id": "zyJ25uz0kSaw"
   },
   "source": [
    "# Assignment 3 on Natural Language Processing\n",
    "\n",
    "## Date : 30th Sept, 2020\n",
    "\n",
    "### Instructor : Prof. Sudeshna Sarkar\n",
    "\n",
    "### Teaching Assistants : Alapan Kuila, Aniruddha Roy, Anusha Potnuru, Uppada Vishnu"
   ]
  },
  {
   "cell_type": "markdown",
   "metadata": {
    "id": "Ao1nhg9RknmF"
   },
   "source": [
    "The central idea of this assignment is to use Naive Bayes classifier and LSTM based classifier and compare the models by accuracy on IMDB dataset.\n",
    "\n"
   ]
  },
  {
   "cell_type": "markdown",
   "metadata": {
    "id": "ONM5Q4SCe9Mr"
   },
   "source": [
    "Please submit with outputs. "
   ]
  },
  {
   "cell_type": "code",
   "execution_count": null,
   "metadata": {
    "colab": {
     "base_uri": "https://localhost:8080/"
    },
    "id": "ElRkQElWUMjG",
    "outputId": "e95452b1-fb65-48cf-978d-37c88ff4e976"
   },
   "outputs": [],
   "source": [
    "import re\n",
    "import pandas as pd\n",
    "import numpy as np\n",
    "import keras\n",
    "from sklearn.metrics import classification_report\n",
    "from sklearn.preprocessing import LabelEncoder\n",
    "from sklearn.model_selection import train_test_split\n",
    "from keras.preprocessing.text import Tokenizer\n",
    "from keras.preprocessing.sequence import pad_sequences\n",
    "import nltk\n",
    "from nltk.stem import WordNetLemmatizer\n",
    "from nltk.tokenize import word_tokenize,sent_tokenize\n",
    "nltk.download('wordnet')\n",
    "nltk.download('stopwords')\n",
    "nltk.download('punkt')"
   ]
  },
  {
   "cell_type": "code",
   "execution_count": null,
   "metadata": {
    "colab": {
     "base_uri": "https://localhost:8080/"
    },
    "id": "fhHRim2AUm4z",
    "outputId": "2c2066d9-48d5-4bf3-d6e6-07d96d2b33b6"
   },
   "outputs": [],
   "source": []
  },
  {
   "cell_type": "code",
   "execution_count": null,
   "metadata": {
    "colab": {
     "base_uri": "https://localhost:8080/",
     "height": 677
    },
    "id": "9I5G8gvTa1jd",
    "outputId": "72cbe7d0-e8b1-42f0-cd70-a88d43c6dac3"
   },
   "outputs": [],
   "source": [
    "IMDBdataset = pd.read_csv(\"IMDB Dataset.csv\")\n",
    "#IMDBdataset.head(10)"
   ]
  },
  {
   "cell_type": "markdown",
   "metadata": {
    "id": "lK_Hn2f6VMP7"
   },
   "source": [
    "# Preprocessing\n",
    "PrePrecessing that needs to be done on lower cased corpus\n",
    "\n",
    "1. Remove html tags\n",
    "2. Remove URLS\n",
    "3. Remove non alphanumeric character\n",
    "4. Remove Stopwords\n",
    "5. Perform stemming and lemmatization\n",
    "\n",
    "You can use regex from re. "
   ]
  },
  {
   "cell_type": "code",
   "execution_count": null,
   "metadata": {
    "colab": {
     "base_uri": "https://localhost:8080/",
     "height": 206
    },
    "id": "5B5lHZPsVOXv",
    "outputId": "18004149-6801-4a63-bff5-6f23aeba3ec5"
   },
   "outputs": [],
   "source": [
    "from nltk.stem import PorterStemmer\n",
    "from nltk.stem import WordNetLemmatizer\n",
    "from nltk.corpus import stopwords\n",
    "sw = set(stopwords.words('english'))\n",
    "\n",
    "\n",
    "def preprocess(_str):\n",
    "  _str = _str.lower()\n",
    "  _str = re.sub(r\"http\\S+\", \"\", _str)\n",
    "  _str = re.sub(r'https?:\\/\\/.*[\\r\\n]*', '', _str)\n",
    "  _str = re.compile(r'<[^>]+>').sub(\"\",_str)   #removing_html_tags \n",
    "  _str = re.sub(r\"[^a-zA-Z0-9]+\", \" \", _str)\n",
    "  _list = word_tokenize(_str)\n",
    "  sw = set(stopwords.words('english'))\n",
    "  filtered_sentence = [word for word in _list if not word in sw]\n",
    "  \n",
    "\n",
    "  lemmatizer = WordNetLemmatizer()\n",
    "  lem_ = [lemmatizer.lemmatize(word,pos=\"n\") for word in filtered_sentence] \n",
    "  s = ' '.join(lem_)\n",
    "  return s \n",
    "\n",
    "IMDBdataset[\"review\"] = IMDBdataset[\"review\"].apply(preprocess)\n",
    "\n",
    "IMDBdataset.head(5)\n",
    "\n",
    "\n",
    "\n",
    "# Print Statistics of Data like avg length of sentence , proposition of data w.r.t class labels\n",
    "import matplotlib.pyplot as plt\n",
    "import seaborn as sns\n",
    "token_lens = []\n",
    "for i in IMDBdataset.review[0:]:\n",
    "  token_lens.append(len(i))\n",
    "sns.distplot(token_lens)\n",
    "plt.xlim([0, 1024]);\n",
    "plt.xlabel('Token_count');"
   ]
  },
  {
   "cell_type": "code",
   "execution_count": null,
   "metadata": {
    "colab": {
     "base_uri": "https://localhost:8080/",
     "height": 334
    },
    "id": "DyaSkfcvYGXk",
    "outputId": "a04e3048-79a8-48ed-c3cf-c60aa4bf4e8d"
   },
   "outputs": [],
   "source": [
    "sent_stat = []\n",
    "sent = IMDBdataset[\"review\"].tolist()\n",
    "for s in sent:\n",
    "  tokens = word_tokenize(s)\n",
    "  sent_stat.append(tokens)\n",
    "    \n",
    "#average and max length of of sentence\n",
    "avg_max_len = [len(s) for s in sent_stat]\n",
    "print(\"\\nAverage length of Review: {}\".format(np.mean(avg_max_len)))\n",
    "print(\"\\n max length of Review: {}\".format(np.max(avg_max_len)))\n",
    "\n",
    "p=0\n",
    "n=0\n",
    "for i in IMDBdataset.sentiment[0:]:\n",
    "  if i=='positive':\n",
    "    p = p+1\n",
    "  else:\n",
    "    n=n+1\n",
    "plt.bar(['Positve','Negative'],[p,n])"
   ]
  },
  {
   "cell_type": "markdown",
   "metadata": {
    "id": "_FkJ-e2pUwun"
   },
   "source": [
    "# Naive Bayes classifier"
   ]
  },
  {
   "cell_type": "code",
   "execution_count": null,
   "metadata": {
    "id": "eVq-mN28U_J4"
   },
   "outputs": [],
   "source": [
    "# get reviews column from df\n",
    "reviews = IMDBdataset[\"review\"]\n",
    "\n",
    "# get labels column from df\n",
    "labels = IMDBdataset[\"sentiment\"]\n",
    "\n",
    "\n",
    "# Use label encoder to encode labels. Convert to 0/1\n",
    "encoder = LabelEncoder()\n",
    "encoded_labels = encoder.fit_transform(labels)\n",
    "print(encoder.classes_)\n",
    "print(encoded_labels)\n",
    "\n",
    "\n",
    "\n",
    "# Split the data into train and test (80% - 20%). \n",
    "# Use stratify in train_test_split so that both train and test have similar ratio of positive and negative samples.\n",
    "train_sent, test_sent, train_labels, test_labels = train_test_split(reviews,encoded_labels, test_size=0.2,random_state=0 ,stratify=encoded_labels)\n",
    "# train_sent, test_sent, train_labels, test_labels "
   ]
  },
  {
   "cell_type": "markdown",
   "metadata": {
    "id": "Bz1YdsSkiWCX"
   },
   "source": [
    "Here there are two approaches possible for building vocabulary for the naive Bayes.\n",
    "1. Take the whole data (train + test) to build the vocab. In this way while testing there is no word which will be out of vocabulary.\n",
    "2. Take the train data to build vocab. In this case, some words from the test set may not be in vocab and hence one needs to perform smoothing so that one the probability term is not zero.\n",
    " \n",
    "You are supposed to go by the 2nd approach.\n",
    " \n",
    "Also building vocab by taking all words in the train set is memory intensive, hence you are required to build vocab by choosing the top 2000 - 3000 frequent words in the training corpus.\n",
    "\n",
    "> $ P(x_i | w_j) = \\frac{ N_{x_i,w_j}\\, +\\, \\alpha }{ N_{w_j}\\, +\\, \\alpha*d} $\n",
    "\n",
    "\n",
    "$N_{x_i,w_j}$ : Number of times feature $x_i$ appears in samples of class $w_j$\n",
    "\n",
    "$N_{w_j}$ : Total count of features in class $w_j$\n",
    "\n",
    "$\\alpha$ : Parameter for additive smoothing. Here consider $\\alpha$ = 1\n",
    "\n",
    "$d$ : Dimentionality of the feature vector  $x = [x_1,x_2,...,x_d]$. In our case its the vocab size.\n",
    "\n",
    "\n",
    "\n",
    "\n"
   ]
  },
  {
   "cell_type": "code",
   "execution_count": null,
   "metadata": {
    "colab": {
     "base_uri": "https://localhost:8080/"
    },
    "id": "5WnIGt22SH38",
    "outputId": "be3ae690-dffe-47d9-ab4f-7a8298def23b"
   },
   "outputs": [],
   "source": [
    "from sklearn.feature_extraction.text import CountVectorizer\n",
    "# Use Count vectorizer for frequency of words\n",
    "'''\n",
    "max_features parameter : If not None, build a vocabulary that only consider the top max_features ordered by term frequency across the corpus.\n",
    "vec = CountVectorizer(max_features = 3000)\n",
    "X = vec.fit_transform(Sentence_list)\n",
    "'''\n",
    "vector = CountVectorizer(max_features = 3000)\n",
    "X = vector.fit_transform(train_sent)\n",
    "\n",
    "\n",
    "V = X.toarray()\n",
    "vocab_ = vector.vocabulary_\n",
    "vocab_\n",
    "V.shape\n",
    "\n",
    "\n",
    "def freq_review(reviews,ys,vocab):\n",
    "    answer = {}\n",
    "    for y,review in zip(ys, reviews):\n",
    "      _list = word_tokenize(review)\n",
    "      for word in _list:\n",
    "            # define the key, which is the word and label tuple\n",
    "          pair = (word,y)\n",
    "            # if the key exists in the dictionary, increment the count\n",
    "          if pair in answer:\n",
    "            answer[pair] += 1\n",
    "            # else, if the key is new, add it to the dictionary and set the count to 1\n",
    "          else:\n",
    "            answer[pair] = 1\n",
    "    return answer\n",
    "\n",
    "freqs = freq_review(train_sent,train_labels,vocab_)\n",
    "\n",
    "N_p =0 \n",
    "N_n = 0\n",
    "for w in vocab_.keys() :\n",
    "  N_p += freqs.get((w,1),0)\n",
    "  N_n += freqs.get((w,0),0)\n",
    "print(\"N_positive is - \" + N_p)\n",
    "print(\"N_negative is - \" + N_n)"
   ]
  },
  {
   "cell_type": "code",
   "execution_count": null,
   "metadata": {
    "id": "iE7pxWIYW1z0"
   },
   "outputs": [],
   "source": [
    "# laplace smoothing included \n",
    "def naive_bayes(freq,_list,vocab_size,N_p,N_n,Vocab):\n",
    "  prob_p=0\n",
    "  prob_n=0\n",
    "  for w in _list:\n",
    "    if w in Vocab.keys():\n",
    "      prob_p += np.log(freq.get((w,1),0)+1/(N_p+vocab_size))\n",
    "      prob_n += np.log(freq.get((w,0),0)+1/(N_n+vocab_size))\n",
    "    else :\n",
    "      prob_p +=  np.log(1/(N_p+vocab_size))\n",
    "      prob_n += np.log(1/(N_n+vocab_size))\n",
    "  prob_p += np.log(N_p/(N_p+N_n))\n",
    "  prob_n+= np.log(N_n/(N_p+N_n))\n",
    "  if prob_p-prob_n > 0:\n",
    "    return 1\n",
    "  else :\n",
    "    return 0\n",
    "\n",
    "# Test the model on test set and report Accuracy\n",
    "y_lo = []\n",
    "for sent in test_sent: \n",
    "  y_lo.append(naive_bayes(freqs,word_tokenize(sent),3000,N_p,N_n,vocab_))\n",
    "    \n",
    "accuracy = 0\n",
    "tot = 10000\n",
    "for i in range(len(y_lo)):\n",
    "  if y_lo[i] == test_labels[i]:\n",
    "    accuracy+=1\n",
    "print('Accuracy % is -->' + str((accuracy*100)/tot) + \"%\")"
   ]
  },
  {
   "cell_type": "markdown",
   "metadata": {
    "id": "WlNql0acU7sa"
   },
   "source": [
    "# *LSTM* based Classifier\n",
    "\n",
    "Use the above train and test splits."
   ]
  },
  {
   "cell_type": "code",
   "execution_count": null,
   "metadata": {
    "id": "SkqnvbUOXoN0"
   },
   "outputs": [],
   "source": [
    "# Hyperparameters of the model\n",
    "vocab_size = 3000 # choose based on statistics\n",
    "oov_tok = '<OOK>'\n",
    "embedding_dim = 100\n",
    "max_length = 200 # choose based on statistics, for example 150 to 200\n",
    "padding_type='post'\n",
    "trunc_type='post'"
   ]
  },
  {
   "cell_type": "code",
   "execution_count": null,
   "metadata": {
    "id": "UeycEg9nZAOF"
   },
   "outputs": [],
   "source": [
    "# tokenize sentences\n",
    "tokenizer = Tokenizer(num_words = vocab_size, oov_token=oov_tok)\n",
    "tokenizer.fit_on_texts(train_sent)\n",
    "word_index = tokenizer.word_index\n",
    "\n",
    "# convert train dataset to sequence and pad sequences\n",
    "train_sequences = tokenizer.texts_to_sequences(train_sent)\n",
    "train_padded = pad_sequences(train_sequences, padding='post', maxlen=max_length)\n",
    "\n",
    "# convert Test dataset to sequence and pad sequences\n",
    "test_sequences = tokenizer.texts_to_sequences(test_sent)\n",
    "test_padded = pad_sequences(test_sequences, padding='post', maxlen=max_length)"
   ]
  },
  {
   "cell_type": "code",
   "execution_count": null,
   "metadata": {
    "colab": {
     "base_uri": "https://localhost:8080/"
    },
    "id": "Mtw3w895ZP39",
    "outputId": "2cfe23c6-8374-4c68-d8be-ae6cd6a3e62b"
   },
   "outputs": [],
   "source": [
    "# model initialization\n",
    "model = keras.Sequential([\n",
    "    keras.layers.Embedding(vocab_size, embedding_dim, input_length=max_length),\n",
    "    keras.layers.Bidirectional(keras.layers.LSTM(64)),\n",
    "    keras.layers.Dense(24, activation='relu'),\n",
    "    keras.layers.Dense(1, activation='sigmoid')\n",
    "])\n",
    "\n",
    "# compile model\n",
    "model.compile(loss='binary_crossentropy',\n",
    "              optimizer='adam',\n",
    "              metrics=['accuracy'])\n",
    "\n",
    "# model summary\n",
    "model.summary()"
   ]
  },
  {
   "cell_type": "code",
   "execution_count": null,
   "metadata": {
    "colab": {
     "base_uri": "https://localhost:8080/"
    },
    "id": "skmaDJMnZTzc",
    "outputId": "1017d36c-b58e-496a-e928-d17f4c88f610"
   },
   "outputs": [],
   "source": [
    "num_epochs = 5\n",
    "history = model.fit(train_padded, train_labels, \n",
    "                    epochs=num_epochs, verbose=1, \n",
    "                    validation_split=0.1)"
   ]
  },
  {
   "cell_type": "code",
   "execution_count": null,
   "metadata": {
    "colab": {
     "base_uri": "https://localhost:8080/"
    },
    "id": "TjEhWEr5Zq7M",
    "outputId": "9d3dc575-b9fb-4cb7-be40-12aebbf95d63"
   },
   "outputs": [],
   "source": [
    "# Calculate accuracy on Test data\n",
    "\n",
    "prediction = model.predict(test_padded)\n",
    "\n",
    "# Get probabilities\n",
    "prediction = model.predict(test_padded)\n",
    "\n",
    "# Get labels based on probability 1 if p>= 0.5 else 0\n",
    "prediction = prediction>=0.5\n",
    "\n",
    "# Accuracy : one can use classification_report from sklearn\n",
    "accurate_prediction=0\n",
    "for i in range(len(test_labels)):\n",
    "  if prediction[i]==test_labels[i]:\n",
    "    accurate_prediction = accurate_prediction+1\n",
    "\n",
    "accuracy_1 = correct_predictions/len(test_labels)\n",
    "print('Accuracy % is -->' + str(accuracy_1*100) + \"%\")\n",
    "    \n",
    "                      #OR\n",
    "    \n",
    "from sklearn.metrics import classification_report\n",
    "print(classification_report(test_labels, prediction))"
   ]
  },
  {
   "cell_type": "markdown",
   "metadata": {
    "id": "TIICV-ySOYL0"
   },
   "source": [
    "## Get predictions for random examples"
   ]
  },
  {
   "cell_type": "code",
   "execution_count": null,
   "metadata": {
    "colab": {
     "base_uri": "https://localhost:8080/"
    },
    "id": "m2RmfNL3OYL0",
    "outputId": "f11af2ca-6df7-4368-d20b-93a47bcdc65b"
   },
   "outputs": [],
   "source": [
    "# reviews on which we need to predict\n",
    "sentence = [\"The movie was very touching and heart whelming\", \n",
    "            \"I have never seen a terrible movie like this\", \n",
    "            \"the movie plot is terrible but it had good acting\"]\n",
    "\n",
    "# convert to a sequence\n",
    "sequences = tokenizer.texts_to_sequences(sentence)\n",
    "\n",
    "# pad the sequence\n",
    "padded = pad_sequences(sequences, padding='post', maxlen=max_length)\n",
    "\n",
    "# Get probabilities\n",
    "# print(model.predict(padded))\n",
    "predicted = model.predict(padded)\n",
    "\n",
    "# Get labels based on probability 1 if p>= 0.5 else 0\n",
    "predicted = predicted>=0.5 \n",
    "predicted = predicted +1 -1\n",
    "print(predicted)\n"
   ]
  }
 ],
 "metadata": {
  "colab": {
   "collapsed_sections": [],
   "name": "NLP_Assignment_3.ipynb",
   "provenance": []
  },
  "kernelspec": {
   "display_name": "Python 3",
   "language": "python",
   "name": "python3"
  },
  "language_info": {
   "codemirror_mode": {
    "name": "ipython",
    "version": 3
   },
   "file_extension": ".py",
   "mimetype": "text/x-python",
   "name": "python",
   "nbconvert_exporter": "python",
   "pygments_lexer": "ipython3",
   "version": "3.7.0"
  }
 },
 "nbformat": 4,
 "nbformat_minor": 1
}
