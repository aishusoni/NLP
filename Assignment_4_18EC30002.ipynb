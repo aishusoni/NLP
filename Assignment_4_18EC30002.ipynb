{
  "nbformat": 4,
  "nbformat_minor": 0,
  "metadata": {
    "colab": {
      "name": "Assignment_4_18EC30002.ipynb",
      "provenance": [],
      "collapsed_sections": []
    },
    "kernelspec": {
      "name": "python3",
      "display_name": "Python 3"
    }
  },
  "cells": [
    {
      "cell_type": "code",
      "metadata": {
        "id": "RX3tXdpMVYOS",
        "outputId": "9919b626-4321-4c60-bb22-eaadced19ba0",
        "colab": {
          "base_uri": "https://localhost:8080/",
          "height": 101
        }
      },
      "source": [
        " pip install sklearn-crfsuite"
      ],
      "execution_count": 1,
      "outputs": [
        {
          "output_type": "stream",
          "text": [
            "Requirement already satisfied: sklearn-crfsuite in /usr/local/lib/python3.6/dist-packages (0.3.6)\n",
            "Requirement already satisfied: tqdm>=2.0 in /usr/local/lib/python3.6/dist-packages (from sklearn-crfsuite) (4.41.1)\n",
            "Requirement already satisfied: tabulate in /usr/local/lib/python3.6/dist-packages (from sklearn-crfsuite) (0.8.7)\n",
            "Requirement already satisfied: six in /usr/local/lib/python3.6/dist-packages (from sklearn-crfsuite) (1.15.0)\n",
            "Requirement already satisfied: python-crfsuite>=0.8.3 in /usr/local/lib/python3.6/dist-packages (from sklearn-crfsuite) (0.9.7)\n"
          ],
          "name": "stdout"
        }
      ]
    },
    {
      "cell_type": "code",
      "metadata": {
        "id": "3l-x8ylbZJrx",
        "outputId": "122128e6-dba1-4a14-b3f2-ba3830930646",
        "colab": {
          "base_uri": "https://localhost:8080/",
          "height": 34
        }
      },
      "source": [
        "pip install conllu"
      ],
      "execution_count": 2,
      "outputs": [
        {
          "output_type": "stream",
          "text": [
            "Requirement already satisfied: conllu in /usr/local/lib/python3.6/dist-packages (4.2.1)\n"
          ],
          "name": "stdout"
        }
      ]
    },
    {
      "cell_type": "code",
      "metadata": {
        "id": "mpxcNotjZb1i",
        "outputId": "b1b40f01-26a8-46e5-ef0c-f76627a64bc2",
        "colab": {
          "base_uri": "https://localhost:8080/",
          "height": 34
        }
      },
      "source": [
        "from google.colab import drive\n",
        "drive.mount('/content/drive/')"
      ],
      "execution_count": 3,
      "outputs": [
        {
          "output_type": "stream",
          "text": [
            "Drive already mounted at /content/drive/; to attempt to forcibly remount, call drive.mount(\"/content/drive/\", force_remount=True).\n"
          ],
          "name": "stdout"
        }
      ]
    },
    {
      "cell_type": "code",
      "metadata": {
        "id": "Kt1_JPLqaZ2s"
      },
      "source": [
        "import pandas as pd"
      ],
      "execution_count": 4,
      "outputs": []
    },
    {
      "cell_type": "code",
      "metadata": {
        "id": "K8xagAvQZgDi"
      },
      "source": [
        "DATA = pd.read_csv('/content/drive/My Drive/NLP Assignment-4/hi-ud-train.conllu')\n"
      ],
      "execution_count": 5,
      "outputs": []
    },
    {
      "cell_type": "code",
      "metadata": {
        "id": "w1y7ecjaatUH",
        "outputId": "71abd6ac-1861-4c05-9ba1-dcc674fff06b",
        "colab": {
          "base_uri": "https://localhost:8080/",
          "height": 195
        }
      },
      "source": [
        "\n",
        "DATA.head()"
      ],
      "execution_count": 6,
      "outputs": [
        {
          "output_type": "execute_result",
          "data": {
            "text/html": [
              "<div>\n",
              "<style scoped>\n",
              "    .dataframe tbody tr th:only-of-type {\n",
              "        vertical-align: middle;\n",
              "    }\n",
              "\n",
              "    .dataframe tbody tr th {\n",
              "        vertical-align: top;\n",
              "    }\n",
              "\n",
              "    .dataframe thead th {\n",
              "        text-align: right;\n",
              "    }\n",
              "</style>\n",
              "<table border=\"1\" class=\"dataframe\">\n",
              "  <thead>\n",
              "    <tr style=\"text-align: right;\">\n",
              "      <th></th>\n",
              "      <th>ID</th>\n",
              "      <th>WORD</th>\n",
              "      <th>POS_TAG</th>\n",
              "    </tr>\n",
              "  </thead>\n",
              "  <tbody>\n",
              "    <tr>\n",
              "      <th>0</th>\n",
              "      <td>1.0</td>\n",
              "      <td>yaha</td>\n",
              "      <td>DET</td>\n",
              "    </tr>\n",
              "    <tr>\n",
              "      <th>1</th>\n",
              "      <td>2.0</td>\n",
              "      <td>eSiyA</td>\n",
              "      <td>PROPN</td>\n",
              "    </tr>\n",
              "    <tr>\n",
              "      <th>2</th>\n",
              "      <td>3.0</td>\n",
              "      <td>kI</td>\n",
              "      <td>ADP</td>\n",
              "    </tr>\n",
              "    <tr>\n",
              "      <th>3</th>\n",
              "      <td>4.0</td>\n",
              "      <td>sabase</td>\n",
              "      <td>ADV</td>\n",
              "    </tr>\n",
              "    <tr>\n",
              "      <th>4</th>\n",
              "      <td>5.0</td>\n",
              "      <td>badZI</td>\n",
              "      <td>ADJ</td>\n",
              "    </tr>\n",
              "  </tbody>\n",
              "</table>\n",
              "</div>"
            ],
            "text/plain": [
              "    ID    WORD POS_TAG\n",
              "0  1.0    yaha     DET\n",
              "1  2.0   eSiyA   PROPN\n",
              "2  3.0      kI     ADP\n",
              "3  4.0  sabase     ADV\n",
              "4  5.0   badZI     ADJ"
            ]
          },
          "metadata": {
            "tags": []
          },
          "execution_count": 6
        }
      ]
    },
    {
      "cell_type": "code",
      "metadata": {
        "id": "8V2EvFawa2Au"
      },
      "source": [
        "tst_f = open('/content/drive/My Drive/NLP Assignment-4/hi-ud-test .conllu', 'r') "
      ],
      "execution_count": 7,
      "outputs": []
    },
    {
      "cell_type": "code",
      "metadata": {
        "id": "q7c2D4Z1iwzd"
      },
      "source": [
        "tst_data = tst_f.readlines()\n",
        "tst_lines = list()\n",
        "tst_set = list()\n",
        "for l in tst_data:\n",
        "  li = tuple((l.strip()).split('\\t'))\n",
        "  if li[0]!='':\n",
        "    tst_lines.append(li)\n",
        "  if li[0]!='' and li[1]== \".\":\n",
        "    tst_set.append(tst_lines)\n",
        "    tst_lines = []\n"
      ],
      "execution_count": 8,
      "outputs": []
    },
    {
      "cell_type": "code",
      "metadata": {
        "id": "z5Pk_AN5jDhS",
        "outputId": "6b5d1221-9a7e-4f16-8a21-118d4bb2c52d",
        "colab": {
          "base_uri": "https://localhost:8080/",
          "height": 437
        }
      },
      "source": [
        "tst_set[0]"
      ],
      "execution_count": 9,
      "outputs": [
        {
          "output_type": "execute_result",
          "data": {
            "text/plain": [
              "[('ID', 'WORD', 'TAG'),\n",
              " ('1', 'rAmAyaNa', 'PROPN'),\n",
              " ('2', 'kAla', 'PROPN'),\n",
              " ('3', 'meM', 'ADP'),\n",
              " ('4', 'BagavAna', 'NOUN'),\n",
              " ('5', 'rAma', 'PROPN'),\n",
              " ('6', 'ke', 'ADP'),\n",
              " ('7', 'puwra', 'NOUN'),\n",
              " ('8', 'kuSa', 'PROPN'),\n",
              " ('9', 'kI', 'ADP'),\n",
              " ('10', 'rAjaXAnI', 'NOUN'),\n",
              " ('11', 'kuSAvawI', 'PROPN'),\n",
              " ('12', 'ko', 'ADP'),\n",
              " ('13', '483', 'PROPN'),\n",
              " ('14', 'IsA', 'PROPN'),\n",
              " ('15', 'pUrva', 'PROPN'),\n",
              " ('16', 'buxXa', 'PROPN'),\n",
              " ('17', 'ne', 'ADP'),\n",
              " ('18', 'apane', 'PRON'),\n",
              " ('19', 'aMwima', 'ADJ'),\n",
              " ('20', 'viSrAma', 'NOUN'),\n",
              " ('21', 'ke', 'ADP'),\n",
              " ('22', 'lie', 'ADP'),\n",
              " ('23', 'cunA', 'VERB'),\n",
              " ('24', '.', 'PUNCT')]"
            ]
          },
          "metadata": {
            "tags": []
          },
          "execution_count": 9
        }
      ]
    },
    {
      "cell_type": "code",
      "metadata": {
        "id": "3fmTTxcbjIkf"
      },
      "source": [
        "DATA = DATA.dropna()\n",
        "DATA= DATA.reset_index()"
      ],
      "execution_count": 10,
      "outputs": []
    },
    {
      "cell_type": "code",
      "metadata": {
        "id": "J1u1hF3DpiLD"
      },
      "source": [
        "trn_lines = []\n",
        "trn_set = []\n",
        "for i in range(len(DATA)):\n",
        "  id = str(DATA['ID'][i])\n",
        "  word = DATA['WORD'][i]\n",
        "  ptag = DATA['POS_TAG'][i]\n",
        "  trn_lines.append((id,word,ptag))\n",
        "  if word ==\".\":\n",
        "    trn_set.append(trn_lines[1:])\n",
        "    trn_lines=[]"
      ],
      "execution_count": 11,
      "outputs": []
    },
    {
      "cell_type": "code",
      "metadata": {
        "id": "sS7o1mZpsRts",
        "outputId": "0dc9b739-3aec-4337-adab-2378550ec57b",
        "colab": {
          "base_uri": "https://localhost:8080/",
          "height": 118
        }
      },
      "source": [
        "trn_set[1]"
      ],
      "execution_count": 12,
      "outputs": [
        {
          "output_type": "execute_result",
          "data": {
            "text/plain": [
              "[('2.0', 'navAba', 'NOUN'),\n",
              " ('3.0', 'SAhajehana', 'PROPN'),\n",
              " ('4.0', 'ne', 'ADP'),\n",
              " ('5.0', 'banavAyA', 'VERB'),\n",
              " ('6.0', 'WA', 'AUX'),\n",
              " ('7.0', '.', 'PUNCT')]"
            ]
          },
          "metadata": {
            "tags": []
          },
          "execution_count": 12
        }
      ]
    },
    {
      "cell_type": "code",
      "metadata": {
        "id": "yahoEOo9u26q"
      },
      "source": [
        "import nltk\n",
        "import sklearn\n",
        "import scipy.stats\n",
        "import sklearn_crfsuite\n",
        "from itertools import chain\n",
        "from sklearn.metrics import make_scorer\n",
        "from sklearn.model_selection import cross_val_score\n",
        "from sklearn.model_selection import RandomizedSearchCV\n",
        "from sklearn_crfsuite import scorers\n",
        "from sklearn_crfsuite import metrics"
      ],
      "execution_count": 13,
      "outputs": []
    },
    {
      "cell_type": "code",
      "metadata": {
        "id": "RM34iO9_u3tY"
      },
      "source": [
        "def word_2_feat(sentence, i):\n",
        "    word = sentence[i][1]\n",
        "    features = {\n",
        "        'bias': 1.0,\n",
        "        'word.lower()': word.lower(),\n",
        "        'word[-4:]': word[-4:],\n",
        "        'word[-3:]': word[-3:],\n",
        "        'word.isupper()': word.isupper(),\n",
        "        'word.istitle()': word.istitle(),\n",
        "        'word.isdigit()': word.isdigit(),      \n",
        "    }\n",
        "    if i > 0:\n",
        "        word1 = sentence[i-1][1]\n",
        "        postag1 = sentence[i-1][2]\n",
        "        features.update({\n",
        "            '-1:word.lower()': word1.lower(),\n",
        "            '-1:word.istitle()': word1.istitle(),\n",
        "            '-1:word.isupper()': word1.isupper(),\n",
        "        })\n",
        "    else:\n",
        "        features['BOS'] = True\n",
        "        \n",
        "    if i < len(sentence)-1:\n",
        "        word1 = sentence[i+1][1]\n",
        "        postag1 = sentence[i+1][2]\n",
        "        features.update({\n",
        "            '+1:word.lower()': word1.lower(),\n",
        "            '+1:word.istitle()': word1.istitle(),\n",
        "            '+1:word.isupper()': word1.isupper(),\n",
        "        })\n",
        "    else:\n",
        "        features['EOS'] = True\n",
        "                \n",
        "    return features\n",
        "\n",
        "\n",
        "def sentence_2_feat(sentence):\n",
        "    return [word_2_feat(sentence, i) for i in range(len(sentence))]\n",
        "\n",
        "def sentence_2_label(sentence):\n",
        "    return [label for id, token, label in sentence]\n",
        "\n",
        "def sentence_2_tok(sentence):\n",
        "    return [token for id,token, label in sentence]"
      ],
      "execution_count": 24,
      "outputs": []
    },
    {
      "cell_type": "markdown",
      "metadata": {
        "id": "XsPCAjg1ClmR"
      },
      "source": [
        "Feature description:\n",
        "\n",
        "* Lowercasing (previous, current and next words)\n",
        "* Checking for uppercase\n",
        "* Checking for title\n",
        "* Checking for digit\n",
        "* Checking for later part of words(last 3/2 letters)\n"
      ]
    },
    {
      "cell_type": "code",
      "metadata": {
        "id": "1He6BPPqvj8R",
        "outputId": "aa2081c8-7b40-4697-8004-de428754506f",
        "colab": {
          "base_uri": "https://localhost:8080/",
          "height": 50
        }
      },
      "source": [
        "%%time\n",
        "X_trn = [sentence_2_feat(i) for i in trn_set]\n",
        "y_trn = [sentence_2_label(i) for i in trn_set]\n",
        "\n",
        "X_tst = [sentence_2_feat(i) for i in tst_set]\n",
        "y_tst = [sentence_2_label(i) for i in tst_set]"
      ],
      "execution_count": 25,
      "outputs": [
        {
          "output_type": "stream",
          "text": [
            "CPU times: user 30.7 ms, sys: 2.12 ms, total: 32.8 ms\n",
            "Wall time: 35.2 ms\n"
          ],
          "name": "stdout"
        }
      ]
    },
    {
      "cell_type": "code",
      "metadata": {
        "id": "GBp2TW-5vwPb",
        "outputId": "80377802-459b-4deb-baa3-f35c2c404ad6",
        "colab": {
          "base_uri": "https://localhost:8080/",
          "height": 188
        }
      },
      "source": [
        "crf = sklearn_crfsuite.CRF(\n",
        "    algorithm='lbfgs',\n",
        "    c1=0.1,\n",
        "    c2=0.1,\n",
        "    max_iterations=100,\n",
        "    all_possible_transitions=True\n",
        ")\n",
        "crf.fit(X_trn, y_trn)"
      ],
      "execution_count": 26,
      "outputs": [
        {
          "output_type": "stream",
          "text": [
            "/usr/local/lib/python3.6/dist-packages/sklearn/base.py:197: FutureWarning: From version 0.24, get_params will raise an AttributeError if a parameter cannot be retrieved as an instance attribute. Previously it would return None.\n",
            "  FutureWarning)\n"
          ],
          "name": "stderr"
        },
        {
          "output_type": "execute_result",
          "data": {
            "text/plain": [
              "CRF(algorithm='lbfgs', all_possible_states=None, all_possible_transitions=True,\n",
              "    averaging=None, c=None, c1=0.1, c2=0.1, calibration_candidates=None,\n",
              "    calibration_eta=None, calibration_max_trials=None, calibration_rate=None,\n",
              "    calibration_samples=None, delta=None, epsilon=None, error_sensitive=None,\n",
              "    gamma=None, keep_tempfiles=None, linesearch=None, max_iterations=100,\n",
              "    max_linesearch=None, min_freq=None, model_filename=None, num_memories=None,\n",
              "    pa_type=None, period=None, trainer_cls=None, variance=None, verbose=False)"
            ]
          },
          "metadata": {
            "tags": []
          },
          "execution_count": 26
        }
      ]
    },
    {
      "cell_type": "code",
      "metadata": {
        "id": "-5bmsU5cv7sF",
        "outputId": "9377c4c3-f70a-4491-9714-df5a7cad1534",
        "colab": {
          "base_uri": "https://localhost:8080/",
          "height": 269
        }
      },
      "source": [
        "labels = list(crf.classes_)\n",
        "# labels.remove('O')\n",
        "labels"
      ],
      "execution_count": 27,
      "outputs": [
        {
          "output_type": "execute_result",
          "data": {
            "text/plain": [
              "['PROPN',\n",
              " 'ADP',\n",
              " 'ADV',\n",
              " 'ADJ',\n",
              " 'NOUN',\n",
              " 'NUM',\n",
              " 'AUX',\n",
              " 'PUNCT',\n",
              " 'VERB',\n",
              " 'CCONJ',\n",
              " 'DET',\n",
              " 'PRON',\n",
              " 'PART',\n",
              " 'SCONJ',\n",
              " 'X']"
            ]
          },
          "metadata": {
            "tags": []
          },
          "execution_count": 27
        }
      ]
    },
    {
      "cell_type": "code",
      "metadata": {
        "id": "aJbKg3suwDmL",
        "outputId": "d28dae41-95b0-4823-ea4c-0fb2508f8c40",
        "colab": {
          "base_uri": "https://localhost:8080/",
          "height": 87
        }
      },
      "source": [
        "y_pred = crf.predict(X_tst)\n",
        "metrics.flat_f1_score(y_tst, y_pred,\n",
        "                      average='weighted', labels=labels)"
      ],
      "execution_count": 28,
      "outputs": [
        {
          "output_type": "stream",
          "text": [
            "/usr/local/lib/python3.6/dist-packages/sklearn/metrics/_classification.py:1515: UndefinedMetricWarning: F-score is ill-defined and being set to 0.0 in labels with no true nor predicted samples. Use `zero_division` parameter to control this behavior.\n",
            "  average, \"true nor predicted\", 'F-score is', len(true_sum)\n"
          ],
          "name": "stderr"
        },
        {
          "output_type": "execute_result",
          "data": {
            "text/plain": [
              "0.8283968426555907"
            ]
          },
          "metadata": {
            "tags": []
          },
          "execution_count": 28
        }
      ]
    },
    {
      "cell_type": "code",
      "metadata": {
        "id": "gBioIJPIwHaM",
        "outputId": "27e4279d-db84-490b-fd0c-2c9d3e56faef",
        "colab": {
          "base_uri": "https://localhost:8080/",
          "height": 474
        }
      },
      "source": [
        "sorted_labels = sorted(\n",
        "    labels,\n",
        "    key=lambda name: (name[1:], name[0])\n",
        ")\n",
        "print(metrics.flat_classification_report(\n",
        "    y_tst, y_pred, labels=sorted_labels, digits=3\n",
        "))"
      ],
      "execution_count": 29,
      "outputs": [
        {
          "output_type": "stream",
          "text": [
            "              precision    recall  f1-score   support\n",
            "\n",
            "           X      0.000     0.000     0.000         0\n",
            "        PART      0.941     0.970     0.955        33\n",
            "       CCONJ      1.000     1.000     1.000        25\n",
            "       SCONJ      0.667     0.667     0.667         3\n",
            "         ADJ      0.617     0.755     0.679        94\n",
            "         ADP      0.962     0.971     0.966       309\n",
            "         ADV      0.667     0.381     0.485        21\n",
            "        VERB      0.802     0.778     0.790        99\n",
            "         DET      0.886     0.861     0.873        36\n",
            "        NOUN      0.740     0.863     0.797       329\n",
            "        PRON      0.871     0.831     0.850        65\n",
            "       PROPN      0.625     0.448     0.522       145\n",
            "         NUM      1.000     0.880     0.936        25\n",
            "       PUNCT      1.000     0.830     0.907       135\n",
            "         AUX      0.909     0.935     0.922       139\n",
            "\n",
            "   micro avg      0.831     0.832     0.832      1458\n",
            "   macro avg      0.779     0.745     0.757      1458\n",
            "weighted avg      0.834     0.832     0.828      1458\n",
            "\n"
          ],
          "name": "stdout"
        },
        {
          "output_type": "stream",
          "text": [
            "/usr/local/lib/python3.6/dist-packages/sklearn/metrics/_classification.py:1272: UndefinedMetricWarning: Precision and F-score are ill-defined and being set to 0.0 in labels with no predicted samples. Use `zero_division` parameter to control this behavior.\n",
            "  _warn_prf(average, modifier, msg_start, len(result))\n",
            "/usr/local/lib/python3.6/dist-packages/sklearn/metrics/_classification.py:1272: UndefinedMetricWarning: Recall and F-score are ill-defined and being set to 0.0 in labels with no true samples. Use `zero_division` parameter to control this behavior.\n",
            "  _warn_prf(average, modifier, msg_start, len(result))\n"
          ],
          "name": "stderr"
        }
      ]
    },
    {
      "cell_type": "code",
      "metadata": {
        "id": "J8z5AiUvwJm8",
        "outputId": "617ef95d-9cdd-4f7a-f734-8f0413cba413",
        "colab": {
          "base_uri": "https://localhost:8080/",
          "height": 403
        }
      },
      "source": [
        "from collections import Counter\n",
        "\n",
        "def prnt_trans(trans_feat):\n",
        "    for (label_from, label_to), weight in trans_feat:\n",
        "        print(\"%-6s -> %-7s %0.6f\" % (label_from, label_to, weight))\n",
        "\n",
        "print(\"10 most common transition features:\")\n",
        "prnt_trans(Counter(crf.transition_features_).most_common(10))\n",
        "\n",
        "print(\"\\n 10 least common transition features\")\n",
        "prnt_trans(Counter(crf.transition_features_).most_common()[-10:])"
      ],
      "execution_count": 30,
      "outputs": [
        {
          "output_type": "stream",
          "text": [
            "10 most common transition features:\n",
            "VERB   -> AUX     3.925082\n",
            "PROPN  -> PROPN   2.860289\n",
            "AUX    -> AUX     2.337864\n",
            "VERB   -> SCONJ   2.154873\n",
            "ADJ    -> NOUN    2.142769\n",
            "AUX    -> SCONJ   2.136516\n",
            "PROPN  -> ADP     1.992648\n",
            "NUM    -> NOUN    1.697616\n",
            "PROPN  -> CCONJ   1.660574\n",
            "DET    -> ADJ     1.641883\n",
            "\n",
            " 10 least common transition features\n",
            "PROPN  -> AUX     -1.121067\n",
            "ADV    -> AUX     -1.145800\n",
            "ADV    -> PROPN   -1.176615\n",
            "AUX    -> ADJ     -1.241653\n",
            "AUX    -> VERB    -1.257049\n",
            "CCONJ  -> AUX     -1.488535\n",
            "AUX    -> ADP     -1.642774\n",
            "ADJ    -> PRON    -1.698902\n",
            "ADJ    -> ADP     -2.239316\n",
            "DET    -> ADP     -2.253842\n"
          ],
          "name": "stdout"
        }
      ]
    },
    {
      "cell_type": "code",
      "metadata": {
        "id": "yVcVMioUbFcC",
        "outputId": "6f65542c-a0ea-4577-ac60-8def613752a4",
        "colab": {
          "base_uri": "https://localhost:8080/",
          "height": 34
        }
      },
      "source": [
        "corr_pred = 0\n",
        "x=0\n",
        "for i in range(len(y_pred)):\n",
        "  for j in range(len(y_pred[i])):\n",
        "    if(y_pred[i][j]==y_tst[i][j]):\n",
        "      corr_pred = corr_pred+1\n",
        "    x+=1\n",
        "print(\"FINAL TEST ACCURACY : \",corr_pred/x)\n"
      ],
      "execution_count": 31,
      "outputs": [
        {
          "output_type": "stream",
          "text": [
            "FINAL TEST ACCURACY :  0.8313913639479096\n"
          ],
          "name": "stdout"
        }
      ]
    },
    {
      "cell_type": "code",
      "metadata": {
        "id": "e2IRN6f31lNF",
        "outputId": "333b17d8-1458-427b-ce5b-a15b3f9da904",
        "colab": {
          "base_uri": "https://localhost:8080/",
          "height": 386
        }
      },
      "source": [
        "sorted_labels = sorted(\n",
        "    labels, \n",
        "    key=lambda name: (name[1:], name[0])\n",
        ")\n",
        "y_pred1 = crf.predict(X_trn)\n",
        "print(metrics.flat_classification_report(\n",
        "    y_trn, y_pred1, labels=sorted_labels, digits=3\n",
        "))"
      ],
      "execution_count": 22,
      "outputs": [
        {
          "output_type": "stream",
          "text": [
            "              precision    recall  f1-score   support\n",
            "\n",
            "           X      1.000     1.000     1.000         2\n",
            "        PART      1.000     1.000     1.000       160\n",
            "       CCONJ      0.993     1.000     0.996       138\n",
            "       SCONJ      0.980     1.000     0.990        49\n",
            "         ADJ      0.998     1.000     0.999       539\n",
            "         ADP      0.999     0.999     0.999      1387\n",
            "         ADV      0.989     0.979     0.984        96\n",
            "        VERB      0.998     0.981     0.990       634\n",
            "         DET      1.000     1.000     1.000       157\n",
            "        NOUN      0.995     0.999     0.997      1529\n",
            "        PRON      1.000     0.996     0.998       278\n",
            "       PROPN      1.000     0.989     0.994       611\n",
            "         NUM      1.000     1.000     1.000       147\n",
            "       PUNCT      1.000     1.000     1.000       564\n",
            "         AUX      0.985     1.000     0.993       730\n",
            "\n",
            "    accuracy                          0.996      7021\n",
            "   macro avg      0.996     0.996     0.996      7021\n",
            "weighted avg      0.996     0.996     0.996      7021\n",
            "\n"
          ],
          "name": "stdout"
        }
      ]
    },
    {
      "cell_type": "code",
      "metadata": {
        "id": "5QdS9fZX1ucV",
        "outputId": "d8dcff5f-d227-4df5-b7c1-245223be6172",
        "colab": {
          "base_uri": "https://localhost:8080/",
          "height": 34
        }
      },
      "source": [
        "corr_pred = 0\n",
        "x=0\n",
        "for i in range(len(y_pred1)):\n",
        "  for j in range(len(y_pred1[i])):\n",
        "    if(y_pred1[i][j]==y_trn[i][j]):\n",
        "      corr_pred = corr_pred+1\n",
        "    x+=1\n",
        "print(\"FINAL TRAIN ACCURACY : \",corr_pred/x)\n"
      ],
      "execution_count": 23,
      "outputs": [
        {
          "output_type": "stream",
          "text": [
            "FINAL TRAIN ACCURACY :  0.9962968238142714\n"
          ],
          "name": "stdout"
        }
      ]
    }
  ]
}